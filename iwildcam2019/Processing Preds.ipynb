{
 "cells": [
  {
   "cell_type": "code",
   "execution_count": 5,
   "metadata": {},
   "outputs": [],
   "source": [
    "import numpy as np\n",
    "import pandas as pd\n",
    "from pathlib import Path"
   ]
  },
  {
   "cell_type": "code",
   "execution_count": 6,
   "metadata": {},
   "outputs": [],
   "source": [
    "%matplotlib inline"
   ]
  },
  {
   "cell_type": "code",
   "execution_count": 21,
   "metadata": {},
   "outputs": [],
   "source": [
    "animals={\n",
    "0:\"nothing\",\n",
    "1: \"deer\",\n",
    "2: \"moose\",\n",
    "3: \"squirrel\",\n",
    "4: \"rodent\",\n",
    "5: \"small_mammal\",\n",
    "6: \"elk\",\n",
    "7: \"pronghorn_antelope\",\n",
    "8: \"rabbit\",\n",
    "9: \"bighorn_sheep\",\n",
    "10: \"fox\", \n",
    "11: \"coyote\", \n",
    "12: \"black_bear\", \n",
    "13: \"raccoon\", \n",
    "14: \"skunk\", \n",
    "15: \"wolf\", \n",
    "16: \"bobcat\", \n",
    "17: \"cat\", \n",
    "18: \"dog\", \n",
    "19: \"opossum\", \n",
    "20: \"bison\", \n",
    "21: \"mountain_goat\", \n",
    "22: \"mountain_lion\"}"
   ]
  },
  {
   "cell_type": "code",
   "execution_count": 8,
   "metadata": {},
   "outputs": [],
   "source": [
    "classes_map =  {19: 0,\n",
    " 3: 1,\n",
    " 8: 2,\n",
    " 4: 3,\n",
    " 13: 4,\n",
    " 1: 5,\n",
    " 11: 6,\n",
    " 16: 7,\n",
    " 17: 8,\n",
    " 14: 9,\n",
    " 18: 10,\n",
    " 10: 11,\n",
    " 22: 12}"
   ]
  },
  {
   "cell_type": "code",
   "execution_count": 9,
   "metadata": {
    "scrolled": true
   },
   "outputs": [
    {
     "data": {
      "text/plain": [
       "{1: 5,\n",
       " 3: 1,\n",
       " 4: 3,\n",
       " 8: 2,\n",
       " 10: 11,\n",
       " 11: 6,\n",
       " 13: 4,\n",
       " 14: 9,\n",
       " 16: 7,\n",
       " 17: 8,\n",
       " 18: 10,\n",
       " 19: 0,\n",
       " 22: 12}"
      ]
     },
     "execution_count": 9,
     "metadata": {},
     "output_type": "execute_result"
    }
   ],
   "source": [
    "classes_map"
   ]
  },
  {
   "cell_type": "code",
   "execution_count": 10,
   "metadata": {},
   "outputs": [],
   "source": [
    "class_map_reversed = {v:k for k,v in classes_map.items() }"
   ]
  },
  {
   "cell_type": "code",
   "execution_count": 11,
   "metadata": {},
   "outputs": [],
   "source": [
    "PATH= Path(\"/home/shaun/data/kaggle/iwild\")"
   ]
  },
  {
   "cell_type": "code",
   "execution_count": 25,
   "metadata": {},
   "outputs": [],
   "source": [
    "preds = np.load(PATH/\"preds-baseline.npy\")"
   ]
  },
  {
   "cell_type": "code",
   "execution_count": 26,
   "metadata": {},
   "outputs": [],
   "source": [
    "max_preds = np.argmax(preds, axis=1)"
   ]
  },
  {
   "cell_type": "code",
   "execution_count": 36,
   "metadata": {},
   "outputs": [],
   "source": [
    "confidence = [preds[i][j] for i,j in enumerate(max_preds)]"
   ]
  },
  {
   "cell_type": "code",
   "execution_count": 27,
   "metadata": {},
   "outputs": [],
   "source": [
    "final_preds = []"
   ]
  },
  {
   "cell_type": "code",
   "execution_count": 28,
   "metadata": {},
   "outputs": [],
   "source": [
    "for i,pred in enumerate(max_preds):\n",
    "    if preds[i][pred] < 0.4:\n",
    "        final_preds.append(0)\n",
    "    else:\n",
    "        final_preds.append(class_map_reversed[pred])"
   ]
  },
  {
   "cell_type": "code",
   "execution_count": 29,
   "metadata": {
    "scrolled": true
   },
   "outputs": [
    {
     "data": {
      "text/plain": [
       "[0, 0, 0, 0, 0, 0, 0, 0, 0, 0]"
      ]
     },
     "execution_count": 29,
     "metadata": {},
     "output_type": "execute_result"
    }
   ],
   "source": [
    "final_preds[:10]"
   ]
  },
  {
   "cell_type": "code",
   "execution_count": 30,
   "metadata": {},
   "outputs": [],
   "source": [
    "class_animal = [animals[i] for i in final_preds]"
   ]
  },
  {
   "cell_type": "code",
   "execution_count": 31,
   "metadata": {},
   "outputs": [],
   "source": [
    "submdf = pd.read_csv(PATH/\"sample_submission.csv\")"
   ]
  },
  {
   "cell_type": "code",
   "execution_count": 32,
   "metadata": {},
   "outputs": [],
   "source": [
    "submdf[\"Predicted\"] =  final_preds"
   ]
  },
  {
   "cell_type": "code",
   "execution_count": 34,
   "metadata": {},
   "outputs": [],
   "source": [
    "submdf[\"animal\"] = class_animal"
   ]
  },
  {
   "cell_type": "code",
   "execution_count": 37,
   "metadata": {
    "scrolled": true
   },
   "outputs": [],
   "source": [
    "submdf[\"confidence\"] = confidence"
   ]
  },
  {
   "cell_type": "code",
   "execution_count": 39,
   "metadata": {},
   "outputs": [],
   "source": [
    "sorted_df = submdf.sort_values(by=[\"confidence\"], ascending=False)"
   ]
  },
  {
   "cell_type": "code",
   "execution_count": 58,
   "metadata": {},
   "outputs": [
    {
     "data": {
      "text/html": [
       "<div>\n",
       "<style scoped>\n",
       "    .dataframe tbody tr th:only-of-type {\n",
       "        vertical-align: middle;\n",
       "    }\n",
       "\n",
       "    .dataframe tbody tr th {\n",
       "        vertical-align: top;\n",
       "    }\n",
       "\n",
       "    .dataframe thead th {\n",
       "        text-align: right;\n",
       "    }\n",
       "</style>\n",
       "<table border=\"1\" class=\"dataframe\">\n",
       "  <thead>\n",
       "    <tr style=\"text-align: right;\">\n",
       "      <th></th>\n",
       "      <th>Id</th>\n",
       "      <th>Predicted</th>\n",
       "      <th>animal</th>\n",
       "      <th>confidence</th>\n",
       "    </tr>\n",
       "  </thead>\n",
       "  <tbody>\n",
       "    <tr>\n",
       "      <th>152083</th>\n",
       "      <td>3579ae0a-2bfc-11e9-bcad-06f10d5896c4</td>\n",
       "      <td>19</td>\n",
       "      <td>opossum</td>\n",
       "      <td>0.994895</td>\n",
       "    </tr>\n",
       "    <tr>\n",
       "      <th>152081</th>\n",
       "      <td>d10aa343-2bf6-11e9-bcad-06f10d5896c4</td>\n",
       "      <td>19</td>\n",
       "      <td>opossum</td>\n",
       "      <td>0.991765</td>\n",
       "    </tr>\n",
       "    <tr>\n",
       "      <th>151473</th>\n",
       "      <td>083b97df-2c14-11e9-bcad-06f10d5896c4</td>\n",
       "      <td>19</td>\n",
       "      <td>opossum</td>\n",
       "      <td>0.991298</td>\n",
       "    </tr>\n",
       "    <tr>\n",
       "      <th>151703</th>\n",
       "      <td>1dfd947c-2c11-11e9-bcad-06f10d5896c4</td>\n",
       "      <td>19</td>\n",
       "      <td>opossum</td>\n",
       "      <td>0.986319</td>\n",
       "    </tr>\n",
       "    <tr>\n",
       "      <th>151705</th>\n",
       "      <td>aa574aa6-2c14-11e9-bcad-06f10d5896c4</td>\n",
       "      <td>19</td>\n",
       "      <td>opossum</td>\n",
       "      <td>0.979198</td>\n",
       "    </tr>\n",
       "    <tr>\n",
       "      <th>152082</th>\n",
       "      <td>a500a8cf-2c1a-11e9-bcad-06f10d5896c4</td>\n",
       "      <td>19</td>\n",
       "      <td>opossum</td>\n",
       "      <td>0.977940</td>\n",
       "    </tr>\n",
       "    <tr>\n",
       "      <th>152073</th>\n",
       "      <td>f0ed5d28-2c01-11e9-bcad-06f10d5896c4</td>\n",
       "      <td>19</td>\n",
       "      <td>opossum</td>\n",
       "      <td>0.977042</td>\n",
       "    </tr>\n",
       "    <tr>\n",
       "      <th>151472</th>\n",
       "      <td>7836383a-2bfa-11e9-bcad-06f10d5896c4</td>\n",
       "      <td>19</td>\n",
       "      <td>opossum</td>\n",
       "      <td>0.976608</td>\n",
       "    </tr>\n",
       "    <tr>\n",
       "      <th>151704</th>\n",
       "      <td>6f15ad61-2c19-11e9-bcad-06f10d5896c4</td>\n",
       "      <td>19</td>\n",
       "      <td>opossum</td>\n",
       "      <td>0.974981</td>\n",
       "    </tr>\n",
       "    <tr>\n",
       "      <th>151846</th>\n",
       "      <td>299fd322-2c20-11e9-bcad-06f10d5896c4</td>\n",
       "      <td>19</td>\n",
       "      <td>opossum</td>\n",
       "      <td>0.974538</td>\n",
       "    </tr>\n",
       "  </tbody>\n",
       "</table>\n",
       "</div>"
      ],
      "text/plain": [
       "                                          Id  Predicted   animal  confidence\n",
       "152083  3579ae0a-2bfc-11e9-bcad-06f10d5896c4         19  opossum    0.994895\n",
       "152081  d10aa343-2bf6-11e9-bcad-06f10d5896c4         19  opossum    0.991765\n",
       "151473  083b97df-2c14-11e9-bcad-06f10d5896c4         19  opossum    0.991298\n",
       "151703  1dfd947c-2c11-11e9-bcad-06f10d5896c4         19  opossum    0.986319\n",
       "151705  aa574aa6-2c14-11e9-bcad-06f10d5896c4         19  opossum    0.979198\n",
       "152082  a500a8cf-2c1a-11e9-bcad-06f10d5896c4         19  opossum    0.977940\n",
       "152073  f0ed5d28-2c01-11e9-bcad-06f10d5896c4         19  opossum    0.977042\n",
       "151472  7836383a-2bfa-11e9-bcad-06f10d5896c4         19  opossum    0.976608\n",
       "151704  6f15ad61-2c19-11e9-bcad-06f10d5896c4         19  opossum    0.974981\n",
       "151846  299fd322-2c20-11e9-bcad-06f10d5896c4         19  opossum    0.974538"
      ]
     },
     "execution_count": 58,
     "metadata": {},
     "output_type": "execute_result"
    }
   ],
   "source": [
    "sorted_df[sorted_df.animal == \"opossum\"].head(n=10)"
   ]
  },
  {
   "cell_type": "code",
   "execution_count": 52,
   "metadata": {},
   "outputs": [
    {
     "name": "stdout",
     "output_type": "stream",
     "text": [
      "Id            383955d6-2c09-11e9-bcad-06f10d5896c4\n",
      "Predicted                                        0\n",
      "animal                                     nothing\n",
      "confidence                                     0.4\n",
      "Name: 27641, dtype: object\n",
      "Id            f0599a70-2c03-11e9-bcad-06f10d5896c4\n",
      "Predicted                                        1\n",
      "animal                                        deer\n",
      "confidence                                0.999992\n",
      "Name: 133233, dtype: object\n",
      "no class present\n",
      "Id            82a9414a-2c22-11e9-bcad-06f10d5896c4\n",
      "Predicted                                        3\n",
      "animal                                    squirrel\n",
      "confidence                                0.999303\n",
      "Name: 61712, dtype: object\n",
      "Id            95821499-2c0e-11e9-bcad-06f10d5896c4\n",
      "Predicted                                        4\n",
      "animal                                      rodent\n",
      "confidence                                 0.95643\n",
      "Name: 116708, dtype: object\n",
      "no class present\n",
      "no class present\n",
      "no class present\n",
      "Id            8cc83aac-2bfd-11e9-bcad-06f10d5896c4\n",
      "Predicted                                        8\n",
      "animal                                      rabbit\n",
      "confidence                                0.998654\n",
      "Name: 116547, dtype: object\n",
      "no class present\n",
      "Id            95821490-2c0e-11e9-bcad-06f10d5896c4\n",
      "Predicted                                       10\n",
      "animal                                         fox\n",
      "confidence                                0.986841\n",
      "Name: 135808, dtype: object\n",
      "Id            20071f5f-2c08-11e9-bcad-06f10d5896c4\n",
      "Predicted                                       11\n",
      "animal                                      coyote\n",
      "confidence                                0.999943\n",
      "Name: 54022, dtype: object\n",
      "no class present\n",
      "Id            12f8e691-2c1c-11e9-bcad-06f10d5896c4\n",
      "Predicted                                       13\n",
      "animal                                     raccoon\n",
      "confidence                                0.998284\n",
      "Name: 140422, dtype: object\n",
      "Id            87bb4f14-2c04-11e9-bcad-06f10d5896c4\n",
      "Predicted                                       14\n",
      "animal                                       skunk\n",
      "confidence                                 0.97725\n",
      "Name: 114494, dtype: object\n",
      "no class present\n",
      "Id            2c465dbb-2c15-11e9-bcad-06f10d5896c4\n",
      "Predicted                                       16\n",
      "animal                                      bobcat\n",
      "confidence                                0.999049\n",
      "Name: 31157, dtype: object\n",
      "Id            59d72fad-2c02-11e9-bcad-06f10d5896c4\n",
      "Predicted                                       17\n",
      "animal                                         cat\n",
      "confidence                                0.995767\n",
      "Name: 24146, dtype: object\n",
      "Id            0fad1e38-2c0d-11e9-bcad-06f10d5896c4\n",
      "Predicted                                       18\n",
      "animal                                         dog\n",
      "confidence                                0.999773\n",
      "Name: 98607, dtype: object\n",
      "Id            3579ae0a-2bfc-11e9-bcad-06f10d5896c4\n",
      "Predicted                                       19\n",
      "animal                                     opossum\n",
      "confidence                                0.994895\n",
      "Name: 152083, dtype: object\n",
      "no class present\n",
      "no class present\n",
      "Id            8489e92c-2c19-11e9-bcad-06f10d5896c4\n",
      "Predicted                                       22\n",
      "animal                               mountain_lion\n",
      "confidence                                0.788731\n",
      "Name: 38347, dtype: object\n"
     ]
    }
   ],
   "source": [
    "for key,item in animals.items():\n",
    "    x = sorted_df.animal==item\n",
    "    y = sorted_df[x]\n",
    "    try:\n",
    "        print(y.iloc[0])\n",
    "    except IndexError:\n",
    "        print(\"no class present\")"
   ]
  },
  {
   "cell_type": "code",
   "execution_count": 40,
   "metadata": {},
   "outputs": [
    {
     "data": {
      "text/html": [
       "<div>\n",
       "<style scoped>\n",
       "    .dataframe tbody tr th:only-of-type {\n",
       "        vertical-align: middle;\n",
       "    }\n",
       "\n",
       "    .dataframe tbody tr th {\n",
       "        vertical-align: top;\n",
       "    }\n",
       "\n",
       "    .dataframe thead th {\n",
       "        text-align: right;\n",
       "    }\n",
       "</style>\n",
       "<table border=\"1\" class=\"dataframe\">\n",
       "  <thead>\n",
       "    <tr style=\"text-align: right;\">\n",
       "      <th></th>\n",
       "      <th>Id</th>\n",
       "      <th>Predicted</th>\n",
       "      <th>animal</th>\n",
       "      <th>confidence</th>\n",
       "    </tr>\n",
       "  </thead>\n",
       "  <tbody>\n",
       "    <tr>\n",
       "      <th>133233</th>\n",
       "      <td>f0599a70-2c03-11e9-bcad-06f10d5896c4</td>\n",
       "      <td>1</td>\n",
       "      <td>deer</td>\n",
       "      <td>0.999992</td>\n",
       "    </tr>\n",
       "    <tr>\n",
       "      <th>56247</th>\n",
       "      <td>b6463be4-2c20-11e9-bcad-06f10d5896c4</td>\n",
       "      <td>1</td>\n",
       "      <td>deer</td>\n",
       "      <td>0.999992</td>\n",
       "    </tr>\n",
       "    <tr>\n",
       "      <th>114239</th>\n",
       "      <td>319e1c71-2bff-11e9-bcad-06f10d5896c4</td>\n",
       "      <td>1</td>\n",
       "      <td>deer</td>\n",
       "      <td>0.999992</td>\n",
       "    </tr>\n",
       "    <tr>\n",
       "      <th>101749</th>\n",
       "      <td>c2c7a44a-2c12-11e9-bcad-06f10d5896c4</td>\n",
       "      <td>1</td>\n",
       "      <td>deer</td>\n",
       "      <td>0.999991</td>\n",
       "    </tr>\n",
       "    <tr>\n",
       "      <th>36187</th>\n",
       "      <td>9b76c1c7-2c0a-11e9-bcad-06f10d5896c4</td>\n",
       "      <td>1</td>\n",
       "      <td>deer</td>\n",
       "      <td>0.999990</td>\n",
       "    </tr>\n",
       "  </tbody>\n",
       "</table>\n",
       "</div>"
      ],
      "text/plain": [
       "                                          Id  Predicted animal  confidence\n",
       "133233  f0599a70-2c03-11e9-bcad-06f10d5896c4          1   deer    0.999992\n",
       "56247   b6463be4-2c20-11e9-bcad-06f10d5896c4          1   deer    0.999992\n",
       "114239  319e1c71-2bff-11e9-bcad-06f10d5896c4          1   deer    0.999992\n",
       "101749  c2c7a44a-2c12-11e9-bcad-06f10d5896c4          1   deer    0.999991\n",
       "36187   9b76c1c7-2c0a-11e9-bcad-06f10d5896c4          1   deer    0.999990"
      ]
     },
     "execution_count": 40,
     "metadata": {},
     "output_type": "execute_result"
    }
   ],
   "source": [
    "sorted_df.head()"
   ]
  },
  {
   "cell_type": "code",
   "execution_count": 74,
   "metadata": {},
   "outputs": [
    {
     "data": {
      "text/plain": [
       "2371"
      ]
     },
     "execution_count": 74,
     "metadata": {},
     "output_type": "execute_result"
    }
   ],
   "source": [
    "np.sum(submdf[\"Predicted\"] == 0)"
   ]
  },
  {
   "cell_type": "code",
   "execution_count": 75,
   "metadata": {},
   "outputs": [],
   "source": [
    "submdf.to_csv(PATH/\"subm3.csv\", index=False)"
   ]
  },
  {
   "cell_type": "code",
   "execution_count": 76,
   "metadata": {},
   "outputs": [
    {
     "name": "stdout",
     "output_type": "stream",
     "text": [
      "100%|███████████████████████████████████████| 5.80M/5.80M [00:10<00:00, 560kB/s]\n",
      "403 - Your team has used its submission allowance (2 of 2). This resets at midnight UTC (23 hours from now).\n"
     ]
    }
   ],
   "source": [
    "! kaggle competitions submit -c iwildcam-2019-fgvc6 -f $PATH/subm3.csv -m \"Fastai baseline threshold 0.23\""
   ]
  },
  {
   "cell_type": "code",
   "execution_count": null,
   "metadata": {},
   "outputs": [],
   "source": []
  }
 ],
 "metadata": {
  "kernelspec": {
   "display_name": "Python 3",
   "language": "python",
   "name": "python3"
  },
  "language_info": {
   "codemirror_mode": {
    "name": "ipython",
    "version": 3
   },
   "file_extension": ".py",
   "mimetype": "text/x-python",
   "name": "python",
   "nbconvert_exporter": "python",
   "pygments_lexer": "ipython3",
   "version": "3.6.8"
  }
 },
 "nbformat": 4,
 "nbformat_minor": 2
}

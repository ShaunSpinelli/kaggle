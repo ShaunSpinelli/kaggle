{
 "cells": [
  {
   "cell_type": "code",
   "execution_count": 4,
   "metadata": {},
   "outputs": [],
   "source": [
    "import numpy as np\n",
    "import pandas as pd\n",
    "from pathlib import Path"
   ]
  },
  {
   "cell_type": "code",
   "execution_count": 107,
   "metadata": {},
   "outputs": [],
   "source": [
    "%matplotlib inline"
   ]
  },
  {
   "cell_type": "code",
   "execution_count": 30,
   "metadata": {},
   "outputs": [],
   "source": [
    "classes_map =  {19: 0,\n",
    " 3: 1,\n",
    " 8: 2,\n",
    " 4: 3,\n",
    " 13: 4,\n",
    " 1: 5,\n",
    " 11: 6,\n",
    " 16: 7,\n",
    " 17: 8,\n",
    " 14: 9,\n",
    " 18: 10,\n",
    " 10: 11,\n",
    " 22: 12}"
   ]
  },
  {
   "cell_type": "code",
   "execution_count": 31,
   "metadata": {
    "scrolled": true
   },
   "outputs": [
    {
     "data": {
      "text/plain": [
       "{1: 5,\n",
       " 3: 1,\n",
       " 4: 3,\n",
       " 8: 2,\n",
       " 10: 11,\n",
       " 11: 6,\n",
       " 13: 4,\n",
       " 14: 9,\n",
       " 16: 7,\n",
       " 17: 8,\n",
       " 18: 10,\n",
       " 19: 0,\n",
       " 22: 12}"
      ]
     },
     "execution_count": 31,
     "metadata": {},
     "output_type": "execute_result"
    }
   ],
   "source": [
    "classes_map"
   ]
  },
  {
   "cell_type": "code",
   "execution_count": 34,
   "metadata": {},
   "outputs": [],
   "source": [
    "class_map_reversed = {v:k for k,v in classes_map.items() }"
   ]
  },
  {
   "cell_type": "code",
   "execution_count": 35,
   "metadata": {},
   "outputs": [
    {
     "data": {
      "text/plain": [
       "{0: 19,\n",
       " 1: 3,\n",
       " 2: 8,\n",
       " 3: 4,\n",
       " 4: 13,\n",
       " 5: 1,\n",
       " 6: 11,\n",
       " 7: 16,\n",
       " 8: 17,\n",
       " 9: 14,\n",
       " 10: 18,\n",
       " 11: 10,\n",
       " 12: 22}"
      ]
     },
     "execution_count": 35,
     "metadata": {},
     "output_type": "execute_result"
    }
   ],
   "source": [
    "class_map_reversed"
   ]
  },
  {
   "cell_type": "code",
   "execution_count": 5,
   "metadata": {},
   "outputs": [],
   "source": [
    "PATH= Path(\"/home/shaun/data/kaggle/iwild\")"
   ]
  },
  {
   "cell_type": "code",
   "execution_count": 22,
   "metadata": {},
   "outputs": [],
   "source": [
    "preds = np.load(PATH/\"preds-baseline.npy\")"
   ]
  },
  {
   "cell_type": "code",
   "execution_count": 78,
   "metadata": {
    "scrolled": true
   },
   "outputs": [
    {
     "data": {
      "text/plain": [
       "array([1.5400851e-02, 2.1670553e-01, 1.5691341e-01, 7.7866629e-02,\n",
       "       1.4924488e-04, 4.2487606e-02, 2.0672505e-01, 2.4105495e-02,\n",
       "       9.6481032e-04, 5.9616286e-03, 2.2896300e-01, 1.6153857e-02,\n",
       "       7.6028598e-03], dtype=float32)"
      ]
     },
     "execution_count": 78,
     "metadata": {},
     "output_type": "execute_result"
    }
   ],
   "source": [
    "preds[3]"
   ]
  },
  {
   "cell_type": "code",
   "execution_count": 97,
   "metadata": {},
   "outputs": [
    {
     "data": {
      "text/plain": [
       "1.5269475e-12"
      ]
     },
     "execution_count": 97,
     "metadata": {},
     "output_type": "execute_result"
    }
   ],
   "source": [
    "preds.min()"
   ]
  },
  {
   "cell_type": "code",
   "execution_count": 26,
   "metadata": {
    "scrolled": true
   },
   "outputs": [
    {
     "data": {
      "text/plain": [
       "(153730, 13)"
      ]
     },
     "execution_count": 26,
     "metadata": {},
     "output_type": "execute_result"
    }
   ],
   "source": [
    "preds.shape"
   ]
  },
  {
   "cell_type": "code",
   "execution_count": 95,
   "metadata": {},
   "outputs": [
    {
     "data": {
      "text/plain": [
       "array([[133233,      5]])"
      ]
     },
     "execution_count": 95,
     "metadata": {},
     "output_type": "execute_result"
    }
   ],
   "source": [
    "np.argwhere(preds == 0.9999925 )"
   ]
  },
  {
   "cell_type": "code",
   "execution_count": null,
   "metadata": {},
   "outputs": [],
   "source": []
  },
  {
   "cell_type": "code",
   "execution_count": 27,
   "metadata": {},
   "outputs": [],
   "source": [
    "max_preds = np.argmax(preds, axis=1)"
   ]
  },
  {
   "cell_type": "code",
   "execution_count": 98,
   "metadata": {},
   "outputs": [],
   "source": [
    "confidence = [preds[i][j] for i,j in enumerate(max_preds)]"
   ]
  },
  {
   "cell_type": "code",
   "execution_count": 99,
   "metadata": {},
   "outputs": [
    {
     "data": {
      "text/plain": [
       "[0.23552515, 0.2524315, 0.24170773, 0.228963]"
      ]
     },
     "execution_count": 99,
     "metadata": {},
     "output_type": "execute_result"
    }
   ],
   "source": []
  },
  {
   "cell_type": "code",
   "execution_count": 49,
   "metadata": {},
   "outputs": [
    {
     "data": {
      "text/plain": [
       "153730"
      ]
     },
     "execution_count": 49,
     "metadata": {},
     "output_type": "execute_result"
    }
   ],
   "source": [
    "len(max_preds)"
   ]
  },
  {
   "cell_type": "code",
   "execution_count": 90,
   "metadata": {},
   "outputs": [],
   "source": [
    "final_preds = []"
   ]
  },
  {
   "cell_type": "code",
   "execution_count": 91,
   "metadata": {},
   "outputs": [
    {
     "name": "stdout",
     "output_type": "stream",
     "text": [
      "18 10\n"
     ]
    },
    {
     "ename": "NameError",
     "evalue": "name 'die' is not defined",
     "output_type": "error",
     "traceback": [
      "\u001b[0;31m---------------------------------------------------------------------------\u001b[0m",
      "\u001b[0;31mNameError\u001b[0m                                 Traceback (most recent call last)",
      "\u001b[0;32m<ipython-input-91-3addddd0cbb1>\u001b[0m in \u001b[0;36m<module>\u001b[0;34m()\u001b[0m\n\u001b[1;32m      4\u001b[0m     \u001b[0;32melse\u001b[0m\u001b[0;34m:\u001b[0m\u001b[0;34m\u001b[0m\u001b[0;34m\u001b[0m\u001b[0m\n\u001b[1;32m      5\u001b[0m         \u001b[0mprint\u001b[0m\u001b[0;34m(\u001b[0m\u001b[0mclass_map_reversed\u001b[0m\u001b[0;34m[\u001b[0m\u001b[0mpred\u001b[0m\u001b[0;34m]\u001b[0m\u001b[0;34m,\u001b[0m\u001b[0mpred\u001b[0m\u001b[0;34m)\u001b[0m\u001b[0;34m\u001b[0m\u001b[0;34m\u001b[0m\u001b[0m\n\u001b[0;32m----> 6\u001b[0;31m         \u001b[0mdie\u001b[0m\u001b[0;34m\u001b[0m\u001b[0;34m\u001b[0m\u001b[0m\n\u001b[0m\u001b[1;32m      7\u001b[0m         \u001b[0mfinal_preds\u001b[0m\u001b[0;34m.\u001b[0m\u001b[0mappend\u001b[0m\u001b[0;34m(\u001b[0m\u001b[0mclass_map_reversed\u001b[0m\u001b[0;34m[\u001b[0m\u001b[0mpred\u001b[0m\u001b[0;34m]\u001b[0m\u001b[0;34m)\u001b[0m\u001b[0;34m\u001b[0m\u001b[0;34m\u001b[0m\u001b[0m\n",
      "\u001b[0;31mNameError\u001b[0m: name 'die' is not defined"
     ]
    }
   ],
   "source": [
    "for i,pred in enumerate(max_preds):\n",
    "    if preds[i][pred] < 0.23:\n",
    "        final_preds.append(0)\n",
    "    else:\n",
    "        print(class_map_reversed[pred],pred)\n",
    "        die\n",
    "        final_preds.append(class_map_reversed[pred])"
   ]
  },
  {
   "cell_type": "code",
   "execution_count": 71,
   "metadata": {
    "scrolled": true
   },
   "outputs": [
    {
     "data": {
      "text/plain": [
       "[18, 18, 18, 0, 18, 3, 3, 11, 11, 11]"
      ]
     },
     "execution_count": 71,
     "metadata": {},
     "output_type": "execute_result"
    }
   ],
   "source": [
    "final_preds[:10]"
   ]
  },
  {
   "cell_type": "code",
   "execution_count": null,
   "metadata": {},
   "outputs": [],
   "source": []
  },
  {
   "cell_type": "code",
   "execution_count": 72,
   "metadata": {},
   "outputs": [],
   "source": [
    "submdf = pd.read_csv(PATH/\"sample_submission.csv\")"
   ]
  },
  {
   "cell_type": "code",
   "execution_count": 96,
   "metadata": {},
   "outputs": [
    {
     "data": {
      "text/plain": [
       "Id           f0599a70-2c03-11e9-bcad-06f10d5896c4\n",
       "Predicted                                       1\n",
       "Name: 133233, dtype: object"
      ]
     },
     "execution_count": 96,
     "metadata": {},
     "output_type": "execute_result"
    }
   ],
   "source": [
    "submdf.iloc[133233]"
   ]
  },
  {
   "cell_type": "code",
   "execution_count": 92,
   "metadata": {},
   "outputs": [
    {
     "data": {
      "text/html": [
       "<div>\n",
       "<style scoped>\n",
       "    .dataframe tbody tr th:only-of-type {\n",
       "        vertical-align: middle;\n",
       "    }\n",
       "\n",
       "    .dataframe tbody tr th {\n",
       "        vertical-align: top;\n",
       "    }\n",
       "\n",
       "    .dataframe thead th {\n",
       "        text-align: right;\n",
       "    }\n",
       "</style>\n",
       "<table border=\"1\" class=\"dataframe\">\n",
       "  <thead>\n",
       "    <tr style=\"text-align: right;\">\n",
       "      <th></th>\n",
       "      <th>Id</th>\n",
       "      <th>Predicted</th>\n",
       "    </tr>\n",
       "  </thead>\n",
       "  <tbody>\n",
       "    <tr>\n",
       "      <th>111291</th>\n",
       "      <td>328e754a-2c1a-11e9-bcad-06f10d5896c4</td>\n",
       "      <td>22</td>\n",
       "    </tr>\n",
       "    <tr>\n",
       "      <th>113959</th>\n",
       "      <td>b0457de7-2c04-11e9-bcad-06f10d5896c4</td>\n",
       "      <td>22</td>\n",
       "    </tr>\n",
       "    <tr>\n",
       "      <th>113962</th>\n",
       "      <td>ff3cd01b-2c01-11e9-bcad-06f10d5896c4</td>\n",
       "      <td>22</td>\n",
       "    </tr>\n",
       "    <tr>\n",
       "      <th>131234</th>\n",
       "      <td>563ae685-2bf8-11e9-bcad-06f10d5896c4</td>\n",
       "      <td>22</td>\n",
       "    </tr>\n",
       "    <tr>\n",
       "      <th>139271</th>\n",
       "      <td>28248a21-2c17-11e9-bcad-06f10d5896c4</td>\n",
       "      <td>22</td>\n",
       "    </tr>\n",
       "  </tbody>\n",
       "</table>\n",
       "</div>"
      ],
      "text/plain": [
       "                                          Id  Predicted\n",
       "111291  328e754a-2c1a-11e9-bcad-06f10d5896c4         22\n",
       "113959  b0457de7-2c04-11e9-bcad-06f10d5896c4         22\n",
       "113962  ff3cd01b-2c01-11e9-bcad-06f10d5896c4         22\n",
       "131234  563ae685-2bf8-11e9-bcad-06f10d5896c4         22\n",
       "139271  28248a21-2c17-11e9-bcad-06f10d5896c4         22"
      ]
     },
     "execution_count": 92,
     "metadata": {},
     "output_type": "execute_result"
    }
   ],
   "source": [
    "submdf[submdf[\"Predicted\"]==22].tail()"
   ]
  },
  {
   "cell_type": "code",
   "execution_count": 73,
   "metadata": {},
   "outputs": [],
   "source": [
    "submdf[\"Predicted\"] =  final_preds"
   ]
  },
  {
   "cell_type": "code",
   "execution_count": 100,
   "metadata": {},
   "outputs": [],
   "source": [
    "submdf[\"confidence\"] = confidence"
   ]
  },
  {
   "cell_type": "code",
   "execution_count": 101,
   "metadata": {},
   "outputs": [
    {
     "data": {
      "text/html": [
       "<div>\n",
       "<style scoped>\n",
       "    .dataframe tbody tr th:only-of-type {\n",
       "        vertical-align: middle;\n",
       "    }\n",
       "\n",
       "    .dataframe tbody tr th {\n",
       "        vertical-align: top;\n",
       "    }\n",
       "\n",
       "    .dataframe thead th {\n",
       "        text-align: right;\n",
       "    }\n",
       "</style>\n",
       "<table border=\"1\" class=\"dataframe\">\n",
       "  <thead>\n",
       "    <tr style=\"text-align: right;\">\n",
       "      <th></th>\n",
       "      <th>Id</th>\n",
       "      <th>Predicted</th>\n",
       "      <th>confidence</th>\n",
       "    </tr>\n",
       "  </thead>\n",
       "  <tbody>\n",
       "    <tr>\n",
       "      <th>0</th>\n",
       "      <td>b005e5b2-2c0b-11e9-bcad-06f10d5896c4</td>\n",
       "      <td>18</td>\n",
       "      <td>0.235525</td>\n",
       "    </tr>\n",
       "    <tr>\n",
       "      <th>1</th>\n",
       "      <td>f2347cfe-2c11-11e9-bcad-06f10d5896c4</td>\n",
       "      <td>18</td>\n",
       "      <td>0.252432</td>\n",
       "    </tr>\n",
       "    <tr>\n",
       "      <th>2</th>\n",
       "      <td>27cf8d26-2c0e-11e9-bcad-06f10d5896c4</td>\n",
       "      <td>18</td>\n",
       "      <td>0.241708</td>\n",
       "    </tr>\n",
       "    <tr>\n",
       "      <th>3</th>\n",
       "      <td>f82f52c7-2c1d-11e9-bcad-06f10d5896c4</td>\n",
       "      <td>0</td>\n",
       "      <td>0.228963</td>\n",
       "    </tr>\n",
       "    <tr>\n",
       "      <th>4</th>\n",
       "      <td>e133f50d-2c1c-11e9-bcad-06f10d5896c4</td>\n",
       "      <td>18</td>\n",
       "      <td>0.243465</td>\n",
       "    </tr>\n",
       "  </tbody>\n",
       "</table>\n",
       "</div>"
      ],
      "text/plain": [
       "                                     Id  Predicted  confidence\n",
       "0  b005e5b2-2c0b-11e9-bcad-06f10d5896c4         18    0.235525\n",
       "1  f2347cfe-2c11-11e9-bcad-06f10d5896c4         18    0.252432\n",
       "2  27cf8d26-2c0e-11e9-bcad-06f10d5896c4         18    0.241708\n",
       "3  f82f52c7-2c1d-11e9-bcad-06f10d5896c4          0    0.228963\n",
       "4  e133f50d-2c1c-11e9-bcad-06f10d5896c4         18    0.243465"
      ]
     },
     "execution_count": 101,
     "metadata": {},
     "output_type": "execute_result"
    }
   ],
   "source": [
    "submdf.head()"
   ]
  },
  {
   "cell_type": "code",
   "execution_count": 105,
   "metadata": {},
   "outputs": [],
   "source": [
    "sorted_df = submdf.sort_values(by=[\"confidence\"], ascending=False)"
   ]
  },
  {
   "cell_type": "code",
   "execution_count": 111,
   "metadata": {},
   "outputs": [
    {
     "data": {
      "text/html": [
       "<div>\n",
       "<style scoped>\n",
       "    .dataframe tbody tr th:only-of-type {\n",
       "        vertical-align: middle;\n",
       "    }\n",
       "\n",
       "    .dataframe tbody tr th {\n",
       "        vertical-align: top;\n",
       "    }\n",
       "\n",
       "    .dataframe thead th {\n",
       "        text-align: right;\n",
       "    }\n",
       "</style>\n",
       "<table border=\"1\" class=\"dataframe\">\n",
       "  <thead>\n",
       "    <tr style=\"text-align: right;\">\n",
       "      <th></th>\n",
       "      <th>Id</th>\n",
       "      <th>Predicted</th>\n",
       "      <th>confidence</th>\n",
       "    </tr>\n",
       "  </thead>\n",
       "  <tbody>\n",
       "    <tr>\n",
       "      <th>56057</th>\n",
       "      <td>032169fe-2bf9-11e9-bcad-06f10d5896c4</td>\n",
       "      <td>11</td>\n",
       "      <td>0.997757</td>\n",
       "    </tr>\n",
       "    <tr>\n",
       "      <th>142946</th>\n",
       "      <td>a0c05b82-2c00-11e9-bcad-06f10d5896c4</td>\n",
       "      <td>1</td>\n",
       "      <td>0.997757</td>\n",
       "    </tr>\n",
       "    <tr>\n",
       "      <th>134849</th>\n",
       "      <td>594d768a-2bfa-11e9-bcad-06f10d5896c4</td>\n",
       "      <td>1</td>\n",
       "      <td>0.997747</td>\n",
       "    </tr>\n",
       "    <tr>\n",
       "      <th>81131</th>\n",
       "      <td>47b9c388-2c19-11e9-bcad-06f10d5896c4</td>\n",
       "      <td>1</td>\n",
       "      <td>0.997746</td>\n",
       "    </tr>\n",
       "    <tr>\n",
       "      <th>99733</th>\n",
       "      <td>0b814dd5-2c03-11e9-bcad-06f10d5896c4</td>\n",
       "      <td>11</td>\n",
       "      <td>0.997744</td>\n",
       "    </tr>\n",
       "    <tr>\n",
       "      <th>91882</th>\n",
       "      <td>a4a5e8d9-2c01-11e9-bcad-06f10d5896c4</td>\n",
       "      <td>1</td>\n",
       "      <td>0.997743</td>\n",
       "    </tr>\n",
       "    <tr>\n",
       "      <th>131910</th>\n",
       "      <td>5f313de0-2c04-11e9-bcad-06f10d5896c4</td>\n",
       "      <td>1</td>\n",
       "      <td>0.997740</td>\n",
       "    </tr>\n",
       "    <tr>\n",
       "      <th>106800</th>\n",
       "      <td>5f481b25-2c14-11e9-bcad-06f10d5896c4</td>\n",
       "      <td>18</td>\n",
       "      <td>0.997739</td>\n",
       "    </tr>\n",
       "    <tr>\n",
       "      <th>132246</th>\n",
       "      <td>6a455adf-2c0d-11e9-bcad-06f10d5896c4</td>\n",
       "      <td>1</td>\n",
       "      <td>0.997736</td>\n",
       "    </tr>\n",
       "    <tr>\n",
       "      <th>104234</th>\n",
       "      <td>9f4a15e6-2c07-11e9-bcad-06f10d5896c4</td>\n",
       "      <td>1</td>\n",
       "      <td>0.997732</td>\n",
       "    </tr>\n",
       "    <tr>\n",
       "      <th>22421</th>\n",
       "      <td>37e33719-2c10-11e9-bcad-06f10d5896c4</td>\n",
       "      <td>1</td>\n",
       "      <td>0.997731</td>\n",
       "    </tr>\n",
       "    <tr>\n",
       "      <th>101398</th>\n",
       "      <td>97d463d5-2c0a-11e9-bcad-06f10d5896c4</td>\n",
       "      <td>1</td>\n",
       "      <td>0.997731</td>\n",
       "    </tr>\n",
       "    <tr>\n",
       "      <th>113264</th>\n",
       "      <td>64025952-2c04-11e9-bcad-06f10d5896c4</td>\n",
       "      <td>11</td>\n",
       "      <td>0.997729</td>\n",
       "    </tr>\n",
       "    <tr>\n",
       "      <th>84164</th>\n",
       "      <td>4da4824f-2c05-11e9-bcad-06f10d5896c4</td>\n",
       "      <td>1</td>\n",
       "      <td>0.997726</td>\n",
       "    </tr>\n",
       "    <tr>\n",
       "      <th>41872</th>\n",
       "      <td>03c29c5c-2c15-11e9-bcad-06f10d5896c4</td>\n",
       "      <td>1</td>\n",
       "      <td>0.997723</td>\n",
       "    </tr>\n",
       "    <tr>\n",
       "      <th>57573</th>\n",
       "      <td>60b3cf26-2c09-11e9-bcad-06f10d5896c4</td>\n",
       "      <td>1</td>\n",
       "      <td>0.997723</td>\n",
       "    </tr>\n",
       "    <tr>\n",
       "      <th>101129</th>\n",
       "      <td>818fd683-2c13-11e9-bcad-06f10d5896c4</td>\n",
       "      <td>1</td>\n",
       "      <td>0.997713</td>\n",
       "    </tr>\n",
       "    <tr>\n",
       "      <th>80214</th>\n",
       "      <td>982b7ba3-2c0f-11e9-bcad-06f10d5896c4</td>\n",
       "      <td>1</td>\n",
       "      <td>0.997711</td>\n",
       "    </tr>\n",
       "    <tr>\n",
       "      <th>98642</th>\n",
       "      <td>4391c754-2c1f-11e9-bcad-06f10d5896c4</td>\n",
       "      <td>18</td>\n",
       "      <td>0.997709</td>\n",
       "    </tr>\n",
       "    <tr>\n",
       "      <th>55203</th>\n",
       "      <td>d58410cd-2bf7-11e9-bcad-06f10d5896c4</td>\n",
       "      <td>11</td>\n",
       "      <td>0.997709</td>\n",
       "    </tr>\n",
       "    <tr>\n",
       "      <th>148849</th>\n",
       "      <td>f81ca2a4-2c09-11e9-bcad-06f10d5896c4</td>\n",
       "      <td>1</td>\n",
       "      <td>0.997708</td>\n",
       "    </tr>\n",
       "    <tr>\n",
       "      <th>118338</th>\n",
       "      <td>366fb886-2c0b-11e9-bcad-06f10d5896c4</td>\n",
       "      <td>1</td>\n",
       "      <td>0.997707</td>\n",
       "    </tr>\n",
       "    <tr>\n",
       "      <th>60138</th>\n",
       "      <td>b8ed8ae5-2bfd-11e9-bcad-06f10d5896c4</td>\n",
       "      <td>11</td>\n",
       "      <td>0.997704</td>\n",
       "    </tr>\n",
       "    <tr>\n",
       "      <th>50223</th>\n",
       "      <td>e5a90082-2c0b-11e9-bcad-06f10d5896c4</td>\n",
       "      <td>18</td>\n",
       "      <td>0.997704</td>\n",
       "    </tr>\n",
       "    <tr>\n",
       "      <th>83543</th>\n",
       "      <td>13962f66-2c1a-11e9-bcad-06f10d5896c4</td>\n",
       "      <td>1</td>\n",
       "      <td>0.997703</td>\n",
       "    </tr>\n",
       "    <tr>\n",
       "      <th>103663</th>\n",
       "      <td>2738e05f-2c18-11e9-bcad-06f10d5896c4</td>\n",
       "      <td>1</td>\n",
       "      <td>0.997701</td>\n",
       "    </tr>\n",
       "    <tr>\n",
       "      <th>132141</th>\n",
       "      <td>074871ad-2bfd-11e9-bcad-06f10d5896c4</td>\n",
       "      <td>1</td>\n",
       "      <td>0.997688</td>\n",
       "    </tr>\n",
       "    <tr>\n",
       "      <th>132921</th>\n",
       "      <td>e050fd96-2c11-11e9-bcad-06f10d5896c4</td>\n",
       "      <td>1</td>\n",
       "      <td>0.997686</td>\n",
       "    </tr>\n",
       "    <tr>\n",
       "      <th>134854</th>\n",
       "      <td>f14a6f69-2c0a-11e9-bcad-06f10d5896c4</td>\n",
       "      <td>1</td>\n",
       "      <td>0.997678</td>\n",
       "    </tr>\n",
       "    <tr>\n",
       "      <th>98900</th>\n",
       "      <td>6973eaff-2c22-11e9-bcad-06f10d5896c4</td>\n",
       "      <td>11</td>\n",
       "      <td>0.997676</td>\n",
       "    </tr>\n",
       "    <tr>\n",
       "      <th>...</th>\n",
       "      <td>...</td>\n",
       "      <td>...</td>\n",
       "      <td>...</td>\n",
       "    </tr>\n",
       "    <tr>\n",
       "      <th>129972</th>\n",
       "      <td>7cb320c2-2bf9-11e9-bcad-06f10d5896c4</td>\n",
       "      <td>1</td>\n",
       "      <td>0.997533</td>\n",
       "    </tr>\n",
       "    <tr>\n",
       "      <th>42915</th>\n",
       "      <td>7e36383e-2c10-11e9-bcad-06f10d5896c4</td>\n",
       "      <td>1</td>\n",
       "      <td>0.997529</td>\n",
       "    </tr>\n",
       "    <tr>\n",
       "      <th>132468</th>\n",
       "      <td>33fcf4cb-2bff-11e9-bcad-06f10d5896c4</td>\n",
       "      <td>1</td>\n",
       "      <td>0.997528</td>\n",
       "    </tr>\n",
       "    <tr>\n",
       "      <th>133172</th>\n",
       "      <td>d7214a78-2c16-11e9-bcad-06f10d5896c4</td>\n",
       "      <td>1</td>\n",
       "      <td>0.997527</td>\n",
       "    </tr>\n",
       "    <tr>\n",
       "      <th>49650</th>\n",
       "      <td>ad941fcb-2bf9-11e9-bcad-06f10d5896c4</td>\n",
       "      <td>1</td>\n",
       "      <td>0.997525</td>\n",
       "    </tr>\n",
       "    <tr>\n",
       "      <th>60998</th>\n",
       "      <td>f8b203c5-2c07-11e9-bcad-06f10d5896c4</td>\n",
       "      <td>18</td>\n",
       "      <td>0.997522</td>\n",
       "    </tr>\n",
       "    <tr>\n",
       "      <th>66347</th>\n",
       "      <td>a037dca6-2c1a-11e9-bcad-06f10d5896c4</td>\n",
       "      <td>1</td>\n",
       "      <td>0.997518</td>\n",
       "    </tr>\n",
       "    <tr>\n",
       "      <th>80128</th>\n",
       "      <td>585cffe8-2c05-11e9-bcad-06f10d5896c4</td>\n",
       "      <td>1</td>\n",
       "      <td>0.997515</td>\n",
       "    </tr>\n",
       "    <tr>\n",
       "      <th>114082</th>\n",
       "      <td>e42b14cc-2c1a-11e9-bcad-06f10d5896c4</td>\n",
       "      <td>1</td>\n",
       "      <td>0.997510</td>\n",
       "    </tr>\n",
       "    <tr>\n",
       "      <th>132619</th>\n",
       "      <td>90f9ee5a-2bf9-11e9-bcad-06f10d5896c4</td>\n",
       "      <td>1</td>\n",
       "      <td>0.997510</td>\n",
       "    </tr>\n",
       "    <tr>\n",
       "      <th>142992</th>\n",
       "      <td>c2ceec5f-2c1a-11e9-bcad-06f10d5896c4</td>\n",
       "      <td>1</td>\n",
       "      <td>0.997502</td>\n",
       "    </tr>\n",
       "    <tr>\n",
       "      <th>95609</th>\n",
       "      <td>175bf6a4-2bfb-11e9-bcad-06f10d5896c4</td>\n",
       "      <td>1</td>\n",
       "      <td>0.997501</td>\n",
       "    </tr>\n",
       "    <tr>\n",
       "      <th>112258</th>\n",
       "      <td>e38d327d-2c00-11e9-bcad-06f10d5896c4</td>\n",
       "      <td>1</td>\n",
       "      <td>0.997501</td>\n",
       "    </tr>\n",
       "    <tr>\n",
       "      <th>64749</th>\n",
       "      <td>b97c66e2-2bf9-11e9-bcad-06f10d5896c4</td>\n",
       "      <td>18</td>\n",
       "      <td>0.997499</td>\n",
       "    </tr>\n",
       "    <tr>\n",
       "      <th>65217</th>\n",
       "      <td>5b1962dc-2c0a-11e9-bcad-06f10d5896c4</td>\n",
       "      <td>18</td>\n",
       "      <td>0.997493</td>\n",
       "    </tr>\n",
       "    <tr>\n",
       "      <th>98509</th>\n",
       "      <td>b139ef21-2c1b-11e9-bcad-06f10d5896c4</td>\n",
       "      <td>18</td>\n",
       "      <td>0.997491</td>\n",
       "    </tr>\n",
       "    <tr>\n",
       "      <th>107581</th>\n",
       "      <td>24301f4c-2c06-11e9-bcad-06f10d5896c4</td>\n",
       "      <td>1</td>\n",
       "      <td>0.997489</td>\n",
       "    </tr>\n",
       "    <tr>\n",
       "      <th>79078</th>\n",
       "      <td>856ec5b1-2c1c-11e9-bcad-06f10d5896c4</td>\n",
       "      <td>1</td>\n",
       "      <td>0.997484</td>\n",
       "    </tr>\n",
       "    <tr>\n",
       "      <th>143027</th>\n",
       "      <td>df66a197-2c0a-11e9-bcad-06f10d5896c4</td>\n",
       "      <td>1</td>\n",
       "      <td>0.997479</td>\n",
       "    </tr>\n",
       "    <tr>\n",
       "      <th>114925</th>\n",
       "      <td>1d5d691c-2c07-11e9-bcad-06f10d5896c4</td>\n",
       "      <td>11</td>\n",
       "      <td>0.997477</td>\n",
       "    </tr>\n",
       "    <tr>\n",
       "      <th>115135</th>\n",
       "      <td>b3e33e28-2c08-11e9-bcad-06f10d5896c4</td>\n",
       "      <td>18</td>\n",
       "      <td>0.997477</td>\n",
       "    </tr>\n",
       "    <tr>\n",
       "      <th>104134</th>\n",
       "      <td>68ddf2a0-2c20-11e9-bcad-06f10d5896c4</td>\n",
       "      <td>1</td>\n",
       "      <td>0.997473</td>\n",
       "    </tr>\n",
       "    <tr>\n",
       "      <th>56963</th>\n",
       "      <td>20fd3b44-2c1f-11e9-bcad-06f10d5896c4</td>\n",
       "      <td>11</td>\n",
       "      <td>0.997470</td>\n",
       "    </tr>\n",
       "    <tr>\n",
       "      <th>114959</th>\n",
       "      <td>6404d4c9-2c08-11e9-bcad-06f10d5896c4</td>\n",
       "      <td>1</td>\n",
       "      <td>0.997458</td>\n",
       "    </tr>\n",
       "    <tr>\n",
       "      <th>104647</th>\n",
       "      <td>a4baeada-2c19-11e9-bcad-06f10d5896c4</td>\n",
       "      <td>1</td>\n",
       "      <td>0.997458</td>\n",
       "    </tr>\n",
       "    <tr>\n",
       "      <th>55743</th>\n",
       "      <td>7e8731a5-2c0d-11e9-bcad-06f10d5896c4</td>\n",
       "      <td>1</td>\n",
       "      <td>0.997457</td>\n",
       "    </tr>\n",
       "    <tr>\n",
       "      <th>153026</th>\n",
       "      <td>2b17ebb5-2c0d-11e9-bcad-06f10d5896c4</td>\n",
       "      <td>1</td>\n",
       "      <td>0.997456</td>\n",
       "    </tr>\n",
       "    <tr>\n",
       "      <th>41182</th>\n",
       "      <td>7cc6eb6e-2c0b-11e9-bcad-06f10d5896c4</td>\n",
       "      <td>1</td>\n",
       "      <td>0.997455</td>\n",
       "    </tr>\n",
       "    <tr>\n",
       "      <th>133173</th>\n",
       "      <td>47c0f95a-2c1d-11e9-bcad-06f10d5896c4</td>\n",
       "      <td>1</td>\n",
       "      <td>0.997448</td>\n",
       "    </tr>\n",
       "    <tr>\n",
       "      <th>60711</th>\n",
       "      <td>408fd6ae-2c1d-11e9-bcad-06f10d5896c4</td>\n",
       "      <td>8</td>\n",
       "      <td>0.997441</td>\n",
       "    </tr>\n",
       "  </tbody>\n",
       "</table>\n",
       "<p>100 rows × 3 columns</p>\n",
       "</div>"
      ],
      "text/plain": [
       "                                          Id  Predicted  confidence\n",
       "56057   032169fe-2bf9-11e9-bcad-06f10d5896c4         11    0.997757\n",
       "142946  a0c05b82-2c00-11e9-bcad-06f10d5896c4          1    0.997757\n",
       "134849  594d768a-2bfa-11e9-bcad-06f10d5896c4          1    0.997747\n",
       "81131   47b9c388-2c19-11e9-bcad-06f10d5896c4          1    0.997746\n",
       "99733   0b814dd5-2c03-11e9-bcad-06f10d5896c4         11    0.997744\n",
       "91882   a4a5e8d9-2c01-11e9-bcad-06f10d5896c4          1    0.997743\n",
       "131910  5f313de0-2c04-11e9-bcad-06f10d5896c4          1    0.997740\n",
       "106800  5f481b25-2c14-11e9-bcad-06f10d5896c4         18    0.997739\n",
       "132246  6a455adf-2c0d-11e9-bcad-06f10d5896c4          1    0.997736\n",
       "104234  9f4a15e6-2c07-11e9-bcad-06f10d5896c4          1    0.997732\n",
       "22421   37e33719-2c10-11e9-bcad-06f10d5896c4          1    0.997731\n",
       "101398  97d463d5-2c0a-11e9-bcad-06f10d5896c4          1    0.997731\n",
       "113264  64025952-2c04-11e9-bcad-06f10d5896c4         11    0.997729\n",
       "84164   4da4824f-2c05-11e9-bcad-06f10d5896c4          1    0.997726\n",
       "41872   03c29c5c-2c15-11e9-bcad-06f10d5896c4          1    0.997723\n",
       "57573   60b3cf26-2c09-11e9-bcad-06f10d5896c4          1    0.997723\n",
       "101129  818fd683-2c13-11e9-bcad-06f10d5896c4          1    0.997713\n",
       "80214   982b7ba3-2c0f-11e9-bcad-06f10d5896c4          1    0.997711\n",
       "98642   4391c754-2c1f-11e9-bcad-06f10d5896c4         18    0.997709\n",
       "55203   d58410cd-2bf7-11e9-bcad-06f10d5896c4         11    0.997709\n",
       "148849  f81ca2a4-2c09-11e9-bcad-06f10d5896c4          1    0.997708\n",
       "118338  366fb886-2c0b-11e9-bcad-06f10d5896c4          1    0.997707\n",
       "60138   b8ed8ae5-2bfd-11e9-bcad-06f10d5896c4         11    0.997704\n",
       "50223   e5a90082-2c0b-11e9-bcad-06f10d5896c4         18    0.997704\n",
       "83543   13962f66-2c1a-11e9-bcad-06f10d5896c4          1    0.997703\n",
       "103663  2738e05f-2c18-11e9-bcad-06f10d5896c4          1    0.997701\n",
       "132141  074871ad-2bfd-11e9-bcad-06f10d5896c4          1    0.997688\n",
       "132921  e050fd96-2c11-11e9-bcad-06f10d5896c4          1    0.997686\n",
       "134854  f14a6f69-2c0a-11e9-bcad-06f10d5896c4          1    0.997678\n",
       "98900   6973eaff-2c22-11e9-bcad-06f10d5896c4         11    0.997676\n",
       "...                                      ...        ...         ...\n",
       "129972  7cb320c2-2bf9-11e9-bcad-06f10d5896c4          1    0.997533\n",
       "42915   7e36383e-2c10-11e9-bcad-06f10d5896c4          1    0.997529\n",
       "132468  33fcf4cb-2bff-11e9-bcad-06f10d5896c4          1    0.997528\n",
       "133172  d7214a78-2c16-11e9-bcad-06f10d5896c4          1    0.997527\n",
       "49650   ad941fcb-2bf9-11e9-bcad-06f10d5896c4          1    0.997525\n",
       "60998   f8b203c5-2c07-11e9-bcad-06f10d5896c4         18    0.997522\n",
       "66347   a037dca6-2c1a-11e9-bcad-06f10d5896c4          1    0.997518\n",
       "80128   585cffe8-2c05-11e9-bcad-06f10d5896c4          1    0.997515\n",
       "114082  e42b14cc-2c1a-11e9-bcad-06f10d5896c4          1    0.997510\n",
       "132619  90f9ee5a-2bf9-11e9-bcad-06f10d5896c4          1    0.997510\n",
       "142992  c2ceec5f-2c1a-11e9-bcad-06f10d5896c4          1    0.997502\n",
       "95609   175bf6a4-2bfb-11e9-bcad-06f10d5896c4          1    0.997501\n",
       "112258  e38d327d-2c00-11e9-bcad-06f10d5896c4          1    0.997501\n",
       "64749   b97c66e2-2bf9-11e9-bcad-06f10d5896c4         18    0.997499\n",
       "65217   5b1962dc-2c0a-11e9-bcad-06f10d5896c4         18    0.997493\n",
       "98509   b139ef21-2c1b-11e9-bcad-06f10d5896c4         18    0.997491\n",
       "107581  24301f4c-2c06-11e9-bcad-06f10d5896c4          1    0.997489\n",
       "79078   856ec5b1-2c1c-11e9-bcad-06f10d5896c4          1    0.997484\n",
       "143027  df66a197-2c0a-11e9-bcad-06f10d5896c4          1    0.997479\n",
       "114925  1d5d691c-2c07-11e9-bcad-06f10d5896c4         11    0.997477\n",
       "115135  b3e33e28-2c08-11e9-bcad-06f10d5896c4         18    0.997477\n",
       "104134  68ddf2a0-2c20-11e9-bcad-06f10d5896c4          1    0.997473\n",
       "56963   20fd3b44-2c1f-11e9-bcad-06f10d5896c4         11    0.997470\n",
       "114959  6404d4c9-2c08-11e9-bcad-06f10d5896c4          1    0.997458\n",
       "104647  a4baeada-2c19-11e9-bcad-06f10d5896c4          1    0.997458\n",
       "55743   7e8731a5-2c0d-11e9-bcad-06f10d5896c4          1    0.997457\n",
       "153026  2b17ebb5-2c0d-11e9-bcad-06f10d5896c4          1    0.997456\n",
       "41182   7cc6eb6e-2c0b-11e9-bcad-06f10d5896c4          1    0.997455\n",
       "133173  47c0f95a-2c1d-11e9-bcad-06f10d5896c4          1    0.997448\n",
       "60711   408fd6ae-2c1d-11e9-bcad-06f10d5896c4          8    0.997441\n",
       "\n",
       "[100 rows x 3 columns]"
      ]
     },
     "execution_count": 111,
     "metadata": {},
     "output_type": "execute_result"
    }
   ],
   "source": [
    "sorted_df.iloc[1000:1100]"
   ]
  },
  {
   "cell_type": "code",
   "execution_count": 74,
   "metadata": {},
   "outputs": [
    {
     "data": {
      "text/plain": [
       "2371"
      ]
     },
     "execution_count": 74,
     "metadata": {},
     "output_type": "execute_result"
    }
   ],
   "source": [
    "np.sum(submdf[\"Predicted\"] == 0)"
   ]
  },
  {
   "cell_type": "code",
   "execution_count": 75,
   "metadata": {},
   "outputs": [],
   "source": [
    "submdf.to_csv(PATH/\"subm3.csv\", index=False)"
   ]
  },
  {
   "cell_type": "code",
   "execution_count": 76,
   "metadata": {},
   "outputs": [
    {
     "name": "stdout",
     "output_type": "stream",
     "text": [
      "100%|███████████████████████████████████████| 5.80M/5.80M [00:10<00:00, 560kB/s]\n",
      "403 - Your team has used its submission allowance (2 of 2). This resets at midnight UTC (23 hours from now).\n"
     ]
    }
   ],
   "source": [
    "! kaggle competitions submit -c iwildcam-2019-fgvc6 -f $PATH/subm3.csv -m \"Fastai baseline threshold 0.23\""
   ]
  },
  {
   "cell_type": "code",
   "execution_count": null,
   "metadata": {},
   "outputs": [],
   "source": []
  }
 ],
 "metadata": {
  "kernelspec": {
   "display_name": "Python 3",
   "language": "python",
   "name": "python3"
  },
  "language_info": {
   "codemirror_mode": {
    "name": "ipython",
    "version": 3
   },
   "file_extension": ".py",
   "mimetype": "text/x-python",
   "name": "python",
   "nbconvert_exporter": "python",
   "pygments_lexer": "ipython3",
   "version": "3.6.8"
  }
 },
 "nbformat": 4,
 "nbformat_minor": 2
}

{
 "cells": [
  {
   "cell_type": "code",
   "execution_count": 1,
   "metadata": {},
   "outputs": [],
   "source": [
    "%reload_ext autoreload\n",
    "%autoreload 2\n",
    "%matplotlib inline"
   ]
  },
  {
   "cell_type": "code",
   "execution_count": 2,
   "metadata": {},
   "outputs": [],
   "source": [
    "from fastai.imports import *"
   ]
  },
  {
   "cell_type": "code",
   "execution_count": 3,
   "metadata": {},
   "outputs": [],
   "source": [
    "from fastai.transforms import *\n",
    "from fastai.conv_learner import *\n",
    "from fastai.model import *\n",
    "from fastai.dataset import *\n",
    "from fastai.sgdr import *\n",
    "from fastai.plots import *"
   ]
  },
  {
   "cell_type": "code",
   "execution_count": 4,
   "metadata": {},
   "outputs": [],
   "source": [
    "PATH = \"data/\"\n",
    "sz=224"
   ]
  },
  {
   "cell_type": "code",
   "execution_count": 5,
   "metadata": {},
   "outputs": [],
   "source": [
    "tfms = tfms_from_model(resnet50, sz, aug_tfms=transforms_top_down, max_zoom=1.1)"
   ]
  },
  {
   "cell_type": "code",
   "execution_count": 6,
   "metadata": {},
   "outputs": [
    {
     "name": "stderr",
     "output_type": "stream",
     "text": [
      "Downloading: \"https://download.pytorch.org/models/resnet50-19c8e357.pth\" to /content/.torch/models/resnet50-19c8e357.pth\n",
      "100%|██████████| 102502400/102502400 [00:03<00:00, 32163894.81it/s]\n"
     ]
    },
    {
     "name": "stdout",
     "output_type": "stream",
     "text": [
      "100%|██████████| 561/561 [03:30<00:00,  2.66it/s]\n",
      "100%|██████████| 141/141 [00:51<00:00,  2.74it/s]\n",
      "100%|██████████| 2492/2492 [15:19<00:00,  2.71it/s]\n"
     ]
    }
   ],
   "source": [
    "arch=resnet50\n",
    "data = ImageClassifierData.from_paths(PATH, bs= 32,tfms=tfms_from_model(arch, sz), test_name=\"test\")\n",
    "learn = ConvLearner.pretrained(arch, data, precompute=True)"
   ]
  },
  {
   "cell_type": "code",
   "execution_count": 7,
   "metadata": {},
   "outputs": [
    {
     "data": {
      "application/vnd.jupyter.widget-view+json": {
       "model_id": "e6a4910ba0ac42a5a58995a2f5e1bbf8",
       "version_major": 2,
       "version_minor": 0
      },
      "text/plain": [
       "HBox(children=(IntProgress(value=0, description='Epoch', max=1), HTML(value='')))"
      ]
     },
     "metadata": {},
     "output_type": "display_data"
    },
    {
     "name": "stdout",
     "output_type": "stream",
     "text": [
      " 76%|███████▋  | 429/561 [00:09<00:02, 46.27it/s, loss=2.54]\n"
     ]
    }
   ],
   "source": [
    "lrf=learn.lr_find()"
   ]
  },
  {
   "cell_type": "code",
   "execution_count": 8,
   "metadata": {},
   "outputs": [],
   "source": [
    "#learn.sched.plot_lr()"
   ]
  },
  {
   "cell_type": "code",
   "execution_count": 9,
   "metadata": {},
   "outputs": [
    {
     "data": {
      "image/png": "[encoded data removed]",
      "text/plain": [
       "<matplotlib.figure.Figure at 0x7f5a33908390>"
      ]
     },
     "metadata": {},
     "output_type": "display_data"
    }
   ],
   "source": [
    "learn.sched.plot()"
   ]
  },
  {
   "cell_type": "code",
   "execution_count": 72,
   "metadata": {},
   "outputs": [
    {
     "data": {
      "application/vnd.jupyter.widget-view+json": {
       "model_id": "34db60dd968740a7a04a1430657c5922",
       "version_major": 2,
       "version_minor": 0
      },
      "text/plain": [
       "HBox(children=(IntProgress(value=0, description='Epoch', max=5), HTML(value='')))"
      ]
     },
     "metadata": {},
     "output_type": "display_data"
    },
    {
     "name": "stdout",
     "output_type": "stream",
     "text": [
      "epoch      trn_loss   val_loss   accuracy   \n",
      "    0      0.052418   0.025372   0.992193  \n",
      "    1      0.063124   0.021566   0.993977  \n",
      "    2      0.049226   0.023495   0.992416  \n",
      "    3      0.041366   0.022325   0.9942    \n",
      "    4      0.050089   0.025985   0.993754  \n",
      "\n"
     ]
    },
    {
     "data": {
      "text/plain": [
       "[array([0.02599]), 0.9937541824670979]"
      ]
     },
     "execution_count": 72,
     "metadata": {},
     "output_type": "execute_result"
    }
   ],
   "source": [
    "learn.fit(1e-2,5 )"
   ]
  },
  {
   "cell_type": "code",
   "execution_count": 11,
   "metadata": {},
   "outputs": [],
   "source": [
    "learn.save('first_save')"
   ]
  },
  {
   "cell_type": "code",
   "execution_count": 12,
   "metadata": {},
   "outputs": [
    {
     "name": "stdout",
     "output_type": "stream",
     "text": []
    }
   ],
   "source": [
    "#test\n",
    "log_preds,y = learn.TTA(is_test=True)\n",
    "probs = np.mean(np.exp(log_preds),0)"
   ]
  },
  {
   "cell_type": "code",
   "execution_count": 13,
   "metadata": {},
   "outputs": [
    {
     "data": {
      "text/plain": [
       "(79726, 10)"
      ]
     },
     "execution_count": 13,
     "metadata": {},
     "output_type": "execute_result"
    }
   ],
   "source": [
    "probs.shape"
   ]
  },
  {
   "cell_type": "code",
   "execution_count": 15,
   "metadata": {},
   "outputs": [
    {
     "data": {
      "text/plain": [
       "array([0.11003, 0.00002, 0.00002, 0.0634 , 0.20423, 0.00253, 0.06336, 0.00079, 0.19215, 0.36349],\n",
       "      dtype=float32)"
      ]
     },
     "execution_count": 15,
     "metadata": {},
     "output_type": "execute_result"
    }
   ],
   "source": [
    "probs[1]"
   ]
  },
  {
   "cell_type": "code",
   "execution_count": 16,
   "metadata": {},
   "outputs": [
    {
     "data": {
      "text/plain": [
       "numpy.ndarray"
      ]
     },
     "execution_count": 16,
     "metadata": {},
     "output_type": "execute_result"
    }
   ],
   "source": [
    "type(probs)"
   ]
  },
  {
   "cell_type": "code",
   "execution_count": 21,
   "metadata": {},
   "outputs": [],
   "source": [
    "res = pd.DataFrame({'c0':probs[:,0],'c1':probs[:,1],'c2':probs[:,2],\n",
    "                        'c3':probs[:,3],'c4':probs[:,4],'c5':probs[:,5],\n",
    "                        'c6':probs[:,6],'c7':probs[:,7],'c8':probs[:,8],'c9':probs[:,9]})"
   ]
  },
  {
   "cell_type": "code",
   "execution_count": 22,
   "metadata": {},
   "outputs": [
    {
     "data": {
      "text/html": [
       "<div>\n",
       "<style scoped>\n",
       "    .dataframe tbody tr th:only-of-type {\n",
       "        vertical-align: middle;\n",
       "    }\n",
       "\n",
       "    .dataframe tbody tr th {\n",
       "        vertical-align: top;\n",
       "    }\n",
       "\n",
       "    .dataframe thead th {\n",
       "        text-align: right;\n",
       "    }\n",
       "</style>\n",
       "<table border=\"1\" class=\"dataframe\">\n",
       "  <thead>\n",
       "    <tr style=\"text-align: right;\">\n",
       "      <th></th>\n",
       "      <th>c0</th>\n",
       "      <th>c1</th>\n",
       "      <th>c2</th>\n",
       "      <th>c3</th>\n",
       "      <th>c4</th>\n",
       "      <th>c5</th>\n",
       "      <th>c6</th>\n",
       "      <th>c7</th>\n",
       "      <th>c8</th>\n",
       "      <th>c9</th>\n",
       "    </tr>\n",
       "  </thead>\n",
       "  <tbody>\n",
       "    <tr>\n",
       "      <th>0</th>\n",
       "      <td>4.589045e-04</td>\n",
       "      <td>0.008934</td>\n",
       "      <td>8.544634e-08</td>\n",
       "      <td>9.840928e-01</td>\n",
       "      <td>2.024163e-04</td>\n",
       "      <td>0.000329</td>\n",
       "      <td>1.538359e-06</td>\n",
       "      <td>0.000038</td>\n",
       "      <td>0.000016</td>\n",
       "      <td>0.005927</td>\n",
       "    </tr>\n",
       "    <tr>\n",
       "      <th>1</th>\n",
       "      <td>1.100251e-01</td>\n",
       "      <td>0.000016</td>\n",
       "      <td>1.724593e-05</td>\n",
       "      <td>6.340417e-02</td>\n",
       "      <td>2.042255e-01</td>\n",
       "      <td>0.002526</td>\n",
       "      <td>6.335963e-02</td>\n",
       "      <td>0.000792</td>\n",
       "      <td>0.192148</td>\n",
       "      <td>0.363486</td>\n",
       "    </tr>\n",
       "    <tr>\n",
       "      <th>2</th>\n",
       "      <td>7.026342e-01</td>\n",
       "      <td>0.009036</td>\n",
       "      <td>2.129168e-04</td>\n",
       "      <td>6.223440e-02</td>\n",
       "      <td>1.937400e-03</td>\n",
       "      <td>0.036072</td>\n",
       "      <td>8.455447e-02</td>\n",
       "      <td>0.048173</td>\n",
       "      <td>0.023146</td>\n",
       "      <td>0.032001</td>\n",
       "    </tr>\n",
       "    <tr>\n",
       "      <th>3</th>\n",
       "      <td>9.351330e-09</td>\n",
       "      <td>0.000848</td>\n",
       "      <td>8.508120e-09</td>\n",
       "      <td>1.750985e-08</td>\n",
       "      <td>7.998540e-09</td>\n",
       "      <td>0.000011</td>\n",
       "      <td>3.605804e-08</td>\n",
       "      <td>0.997022</td>\n",
       "      <td>0.002086</td>\n",
       "      <td>0.000033</td>\n",
       "    </tr>\n",
       "    <tr>\n",
       "      <th>4</th>\n",
       "      <td>3.410858e-01</td>\n",
       "      <td>0.000071</td>\n",
       "      <td>1.168825e-02</td>\n",
       "      <td>3.985311e-02</td>\n",
       "      <td>5.259598e-01</td>\n",
       "      <td>0.020835</td>\n",
       "      <td>2.533021e-03</td>\n",
       "      <td>0.000604</td>\n",
       "      <td>0.056602</td>\n",
       "      <td>0.000768</td>\n",
       "    </tr>\n",
       "  </tbody>\n",
       "</table>\n",
       "</div>"
      ],
      "text/plain": [
       "             c0        c1            c2            c3            c4        c5  \\\n",
       "0  4.589045e-04  0.008934  8.544634e-08  9.840928e-01  2.024163e-04  0.000329   \n",
       "1  1.100251e-01  0.000016  1.724593e-05  6.340417e-02  2.042255e-01  0.002526   \n",
       "2  7.026342e-01  0.009036  2.129168e-04  6.223440e-02  1.937400e-03  0.036072   \n",
       "3  9.351330e-09  0.000848  8.508120e-09  1.750985e-08  7.998540e-09  0.000011   \n",
       "4  3.410858e-01  0.000071  1.168825e-02  3.985311e-02  5.259598e-01  0.020835   \n",
       "\n",
       "             c6        c7        c8        c9  \n",
       "0  1.538359e-06  0.000038  0.000016  0.005927  \n",
       "1  6.335963e-02  0.000792  0.192148  0.363486  \n",
       "2  8.455447e-02  0.048173  0.023146  0.032001  \n",
       "3  3.605804e-08  0.997022  0.002086  0.000033  \n",
       "4  2.533021e-03  0.000604  0.056602  0.000768  "
      ]
     },
     "execution_count": 22,
     "metadata": {},
     "output_type": "execute_result"
    }
   ],
   "source": [
    "res.head()"
   ]
  },
  {
   "cell_type": "code",
   "execution_count": 23,
   "metadata": {},
   "outputs": [],
   "source": [
    "TEST = 'data/test'"
   ]
  },
  {
   "cell_type": "code",
   "execution_count": 42,
   "metadata": {},
   "outputs": [],
   "source": [
    "fname = os.listdir(TEST)"
   ]
  },
  {
   "cell_type": "code",
   "execution_count": 35,
   "metadata": {},
   "outputs": [],
   "source": [
    "#fname = pd.DataFrame(fname)"
   ]
  },
  {
   "cell_type": "code",
   "execution_count": 45,
   "metadata": {},
   "outputs": [],
   "source": [
    "index = []\n",
    "for i in range(len(fname)):\n",
    "    index.append(i)\n",
    "    "
   ]
  },
  {
   "cell_type": "code",
   "execution_count": 46,
   "metadata": {},
   "outputs": [
    {
     "data": {
      "text/plain": [
       "79726"
      ]
     },
     "execution_count": 46,
     "metadata": {},
     "output_type": "execute_result"
    }
   ],
   "source": [
    "len(index)\n"
   ]
  },
  {
   "cell_type": "code",
   "execution_count": 49,
   "metadata": {},
   "outputs": [
    {
     "data": {
      "text/plain": [
       "79726"
      ]
     },
     "execution_count": 49,
     "metadata": {},
     "output_type": "execute_result"
    }
   ],
   "source": [
    "len(fname)"
   ]
  },
  {
   "cell_type": "code",
   "execution_count": 50,
   "metadata": {},
   "outputs": [],
   "source": [
    "newres =res.rename(index=dict(zip(index,fname)))"
   ]
  },
  {
   "cell_type": "code",
   "execution_count": 64,
   "metadata": {},
   "outputs": [
    {
     "data": {
      "text/html": [
       "<div>\n",
       "<style scoped>\n",
       "    .dataframe tbody tr th:only-of-type {\n",
       "        vertical-align: middle;\n",
       "    }\n",
       "\n",
       "    .dataframe tbody tr th {\n",
       "        vertical-align: top;\n",
       "    }\n",
       "\n",
       "    .dataframe thead th {\n",
       "        text-align: right;\n",
       "    }\n",
       "</style>\n",
       "<table border=\"1\" class=\"dataframe\">\n",
       "  <thead>\n",
       "    <tr style=\"text-align: right;\">\n",
       "      <th></th>\n",
       "      <th>c0</th>\n",
       "      <th>c1</th>\n",
       "      <th>c2</th>\n",
       "      <th>c3</th>\n",
       "      <th>c4</th>\n",
       "      <th>c5</th>\n",
       "      <th>c6</th>\n",
       "      <th>c7</th>\n",
       "      <th>c8</th>\n",
       "      <th>c9</th>\n",
       "    </tr>\n",
       "  </thead>\n",
       "  <tbody>\n",
       "    <tr>\n",
       "      <th>img_23138.jpg</th>\n",
       "      <td>4.589045e-04</td>\n",
       "      <td>0.008934</td>\n",
       "      <td>8.544634e-08</td>\n",
       "      <td>9.840928e-01</td>\n",
       "      <td>2.024163e-04</td>\n",
       "      <td>0.000329</td>\n",
       "      <td>1.538359e-06</td>\n",
       "      <td>0.000038</td>\n",
       "      <td>0.000016</td>\n",
       "      <td>0.005927</td>\n",
       "    </tr>\n",
       "    <tr>\n",
       "      <th>img_73419.jpg</th>\n",
       "      <td>1.100251e-01</td>\n",
       "      <td>0.000016</td>\n",
       "      <td>1.724593e-05</td>\n",
       "      <td>6.340417e-02</td>\n",
       "      <td>2.042255e-01</td>\n",
       "      <td>0.002526</td>\n",
       "      <td>6.335963e-02</td>\n",
       "      <td>0.000792</td>\n",
       "      <td>0.192148</td>\n",
       "      <td>0.363486</td>\n",
       "    </tr>\n",
       "    <tr>\n",
       "      <th>img_33217.jpg</th>\n",
       "      <td>7.026342e-01</td>\n",
       "      <td>0.009036</td>\n",
       "      <td>2.129168e-04</td>\n",
       "      <td>6.223440e-02</td>\n",
       "      <td>1.937400e-03</td>\n",
       "      <td>0.036072</td>\n",
       "      <td>8.455447e-02</td>\n",
       "      <td>0.048173</td>\n",
       "      <td>0.023146</td>\n",
       "      <td>0.032001</td>\n",
       "    </tr>\n",
       "    <tr>\n",
       "      <th>img_90822.jpg</th>\n",
       "      <td>9.351330e-09</td>\n",
       "      <td>0.000848</td>\n",
       "      <td>8.508120e-09</td>\n",
       "      <td>1.750985e-08</td>\n",
       "      <td>7.998540e-09</td>\n",
       "      <td>0.000011</td>\n",
       "      <td>3.605804e-08</td>\n",
       "      <td>0.997022</td>\n",
       "      <td>0.002086</td>\n",
       "      <td>0.000033</td>\n",
       "    </tr>\n",
       "    <tr>\n",
       "      <th>img_77769.jpg</th>\n",
       "      <td>3.410858e-01</td>\n",
       "      <td>0.000071</td>\n",
       "      <td>1.168825e-02</td>\n",
       "      <td>3.985311e-02</td>\n",
       "      <td>5.259598e-01</td>\n",
       "      <td>0.020835</td>\n",
       "      <td>2.533021e-03</td>\n",
       "      <td>0.000604</td>\n",
       "      <td>0.056602</td>\n",
       "      <td>0.000768</td>\n",
       "    </tr>\n",
       "  </tbody>\n",
       "</table>\n",
       "</div>"
      ],
      "text/plain": [
       "                         c0        c1            c2            c3  \\\n",
       "img_23138.jpg  4.589045e-04  0.008934  8.544634e-08  9.840928e-01   \n",
       "img_73419.jpg  1.100251e-01  0.000016  1.724593e-05  6.340417e-02   \n",
       "img_33217.jpg  7.026342e-01  0.009036  2.129168e-04  6.223440e-02   \n",
       "img_90822.jpg  9.351330e-09  0.000848  8.508120e-09  1.750985e-08   \n",
       "img_77769.jpg  3.410858e-01  0.000071  1.168825e-02  3.985311e-02   \n",
       "\n",
       "                         c4        c5            c6        c7        c8  \\\n",
       "img_23138.jpg  2.024163e-04  0.000329  1.538359e-06  0.000038  0.000016   \n",
       "img_73419.jpg  2.042255e-01  0.002526  6.335963e-02  0.000792  0.192148   \n",
       "img_33217.jpg  1.937400e-03  0.036072  8.455447e-02  0.048173  0.023146   \n",
       "img_90822.jpg  7.998540e-09  0.000011  3.605804e-08  0.997022  0.002086   \n",
       "img_77769.jpg  5.259598e-01  0.020835  2.533021e-03  0.000604  0.056602   \n",
       "\n",
       "                     c9  \n",
       "img_23138.jpg  0.005927  \n",
       "img_73419.jpg  0.363486  \n",
       "img_33217.jpg  0.032001  \n",
       "img_90822.jpg  0.000033  \n",
       "img_77769.jpg  0.000768  "
      ]
     },
     "execution_count": 64,
     "metadata": {},
     "output_type": "execute_result"
    }
   ],
   "source": [
    "newres.head()"
   ]
  },
  {
   "cell_type": "code",
   "execution_count": 68,
   "metadata": {},
   "outputs": [],
   "source": [
    "newres.index.names = ['img']"
   ]
  },
  {
   "cell_type": "code",
   "execution_count": 69,
   "metadata": {},
   "outputs": [
    {
     "data": {
      "text/html": [
       "<div>\n",
       "<style scoped>\n",
       "    .dataframe tbody tr th:only-of-type {\n",
       "        vertical-align: middle;\n",
       "    }\n",
       "\n",
       "    .dataframe tbody tr th {\n",
       "        vertical-align: top;\n",
       "    }\n",
       "\n",
       "    .dataframe thead th {\n",
       "        text-align: right;\n",
       "    }\n",
       "</style>\n",
       "<table border=\"1\" class=\"dataframe\">\n",
       "  <thead>\n",
       "    <tr style=\"text-align: right;\">\n",
       "      <th></th>\n",
       "      <th>c0</th>\n",
       "      <th>c1</th>\n",
       "      <th>c2</th>\n",
       "      <th>c3</th>\n",
       "      <th>c4</th>\n",
       "      <th>c5</th>\n",
       "      <th>c6</th>\n",
       "      <th>c7</th>\n",
       "      <th>c8</th>\n",
       "      <th>c9</th>\n",
       "    </tr>\n",
       "    <tr>\n",
       "      <th>img</th>\n",
       "      <th></th>\n",
       "      <th></th>\n",
       "      <th></th>\n",
       "      <th></th>\n",
       "      <th></th>\n",
       "      <th></th>\n",
       "      <th></th>\n",
       "      <th></th>\n",
       "      <th></th>\n",
       "      <th></th>\n",
       "    </tr>\n",
       "  </thead>\n",
       "  <tbody>\n",
       "    <tr>\n",
       "      <th>img_23138.jpg</th>\n",
       "      <td>4.589045e-04</td>\n",
       "      <td>0.008934</td>\n",
       "      <td>8.544634e-08</td>\n",
       "      <td>9.840928e-01</td>\n",
       "      <td>2.024163e-04</td>\n",
       "      <td>0.000329</td>\n",
       "      <td>1.538359e-06</td>\n",
       "      <td>0.000038</td>\n",
       "      <td>0.000016</td>\n",
       "      <td>0.005927</td>\n",
       "    </tr>\n",
       "    <tr>\n",
       "      <th>img_73419.jpg</th>\n",
       "      <td>1.100251e-01</td>\n",
       "      <td>0.000016</td>\n",
       "      <td>1.724593e-05</td>\n",
       "      <td>6.340417e-02</td>\n",
       "      <td>2.042255e-01</td>\n",
       "      <td>0.002526</td>\n",
       "      <td>6.335963e-02</td>\n",
       "      <td>0.000792</td>\n",
       "      <td>0.192148</td>\n",
       "      <td>0.363486</td>\n",
       "    </tr>\n",
       "    <tr>\n",
       "      <th>img_33217.jpg</th>\n",
       "      <td>7.026342e-01</td>\n",
       "      <td>0.009036</td>\n",
       "      <td>2.129168e-04</td>\n",
       "      <td>6.223440e-02</td>\n",
       "      <td>1.937400e-03</td>\n",
       "      <td>0.036072</td>\n",
       "      <td>8.455447e-02</td>\n",
       "      <td>0.048173</td>\n",
       "      <td>0.023146</td>\n",
       "      <td>0.032001</td>\n",
       "    </tr>\n",
       "    <tr>\n",
       "      <th>img_90822.jpg</th>\n",
       "      <td>9.351330e-09</td>\n",
       "      <td>0.000848</td>\n",
       "      <td>8.508120e-09</td>\n",
       "      <td>1.750985e-08</td>\n",
       "      <td>7.998540e-09</td>\n",
       "      <td>0.000011</td>\n",
       "      <td>3.605804e-08</td>\n",
       "      <td>0.997022</td>\n",
       "      <td>0.002086</td>\n",
       "      <td>0.000033</td>\n",
       "    </tr>\n",
       "    <tr>\n",
       "      <th>img_77769.jpg</th>\n",
       "      <td>3.410858e-01</td>\n",
       "      <td>0.000071</td>\n",
       "      <td>1.168825e-02</td>\n",
       "      <td>3.985311e-02</td>\n",
       "      <td>5.259598e-01</td>\n",
       "      <td>0.020835</td>\n",
       "      <td>2.533021e-03</td>\n",
       "      <td>0.000604</td>\n",
       "      <td>0.056602</td>\n",
       "      <td>0.000768</td>\n",
       "    </tr>\n",
       "  </tbody>\n",
       "</table>\n",
       "</div>"
      ],
      "text/plain": [
       "                         c0        c1            c2            c3  \\\n",
       "img                                                                 \n",
       "img_23138.jpg  4.589045e-04  0.008934  8.544634e-08  9.840928e-01   \n",
       "img_73419.jpg  1.100251e-01  0.000016  1.724593e-05  6.340417e-02   \n",
       "img_33217.jpg  7.026342e-01  0.009036  2.129168e-04  6.223440e-02   \n",
       "img_90822.jpg  9.351330e-09  0.000848  8.508120e-09  1.750985e-08   \n",
       "img_77769.jpg  3.410858e-01  0.000071  1.168825e-02  3.985311e-02   \n",
       "\n",
       "                         c4        c5            c6        c7        c8  \\\n",
       "img                                                                       \n",
       "img_23138.jpg  2.024163e-04  0.000329  1.538359e-06  0.000038  0.000016   \n",
       "img_73419.jpg  2.042255e-01  0.002526  6.335963e-02  0.000792  0.192148   \n",
       "img_33217.jpg  1.937400e-03  0.036072  8.455447e-02  0.048173  0.023146   \n",
       "img_90822.jpg  7.998540e-09  0.000011  3.605804e-08  0.997022  0.002086   \n",
       "img_77769.jpg  5.259598e-01  0.020835  2.533021e-03  0.000604  0.056602   \n",
       "\n",
       "                     c9  \n",
       "img                      \n",
       "img_23138.jpg  0.005927  \n",
       "img_73419.jpg  0.363486  \n",
       "img_33217.jpg  0.032001  \n",
       "img_90822.jpg  0.000033  \n",
       "img_77769.jpg  0.000768  "
      ]
     },
     "execution_count": 69,
     "metadata": {},
     "output_type": "execute_result"
    }
   ],
   "source": [
    "newres.head()"
   ]
  },
  {
   "cell_type": "code",
   "execution_count": null,
   "metadata": {},
   "outputs": [],
   "source": []
  },
  {
   "cell_type": "code",
   "execution_count": 70,
   "metadata": {},
   "outputs": [],
   "source": [
    "SUBM = f'{PATH}/sub/'\n",
    "os.makedirs(SUBM, exist_ok=True)\n",
    "newres.to_csv(f'{SUBM}subm.gz', compression='gzip')"
   ]
  },
  {
   "cell_type": "code",
   "execution_count": 71,
   "metadata": {},
   "outputs": [
    {
     "data": {
      "text/html": [
       "<a href='data//sub/subm.gz' target='_blank'>data//sub/subm.gz</a><br>"
      ],
      "text/plain": [
       "/content/clouderizer/fast.ai/fastai/courses/dl1/data/sub/subm.gz"
      ]
     },
     "execution_count": 71,
     "metadata": {},
     "output_type": "execute_result"
    }
   ],
   "source": [
    "FileLink(f'{SUBM}subm.gz')"
   ]
  },
  {
   "cell_type": "code",
   "execution_count": null,
   "metadata": {},
   "outputs": [],
   "source": []
  }
 ],
 "metadata": {
  "kernelspec": {
   "display_name": "Python 3",
   "language": "python",
   "name": "python3"
  },
  "language_info": {
   "codemirror_mode": {
    "name": "ipython",
    "version": 3
   },
   "file_extension": ".py",
   "mimetype": "text/x-python",
   "name": "python",
   "nbconvert_exporter": "python",
   "pygments_lexer": "ipython3",
   "version": "3.6.3"
  }
 },
 "nbformat": 4,
 "nbformat_minor": 2
}

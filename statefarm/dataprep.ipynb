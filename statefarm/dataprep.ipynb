{
 "cells": [
  {
   "cell_type": "code",
   "execution_count": 1,
   "metadata": {},
   "outputs": [],
   "source": [
    "import pandas as pd\n",
    "import os\n",
    "from shutil import copyfile"
   ]
  },
  {
   "cell_type": "code",
   "execution_count": 2,
   "metadata": {},
   "outputs": [],
   "source": [
    "source_path = 'data/original/'\n",
    "valid_path = 'data/valid/'\n",
    "train_path = 'data/train/'"
   ]
  },
  {
   "cell_type": "code",
   "execution_count": 3,
   "metadata": {},
   "outputs": [],
   "source": [
    "for i in ['c0', 'c1', 'c2', 'c3', 'c4', 'c5', 'c6', 'c7', 'c8', 'c9']:\n",
    "    os.makedirs('{}{}'.format(valid_path, i))\n",
    "    os.makedirs('{}{}'.format(train_path, i))"
   ]
  },
  {
   "cell_type": "code",
   "execution_count": 4,
   "metadata": {},
   "outputs": [],
   "source": [
    "originals = {}\n",
    "for i in ['c0', 'c1', 'c2', 'c3', 'c4', 'c5', 'c6', 'c7', 'c8', 'c9']:\n",
    "    originals[i] = pd.Series(os.listdir('{}{}/'.format(source_path, i)))"
   ]
  },
  {
   "cell_type": "code",
   "execution_count": 5,
   "metadata": {},
   "outputs": [],
   "source": [
    "valid_imgs = {}\n",
    "train_imgs = {}\n",
    "for d in originals:\n",
    "    train_imgs[d] = originals[d].sample(frac=0.8)\n",
    "    valid_imgs[d] = originals[d][~originals[d].isin(list(train_imgs[d]))]"
   ]
  },
  {
   "cell_type": "code",
   "execution_count": 6,
   "metadata": {},
   "outputs": [],
   "source": [
    "def move_imgs(src_path, dst_path, sers):\n",
    "    for cn in sers:\n",
    "        print('Copying imgs in {} class'.format(cn))\n",
    "        for i in sers[cn]:\n",
    "            copyfile('{}{}/{}'.format(src_path, cn, i), '{}{}/{}'.format(dst_path, cn, i))"
   ]
  },
  {
   "cell_type": "code",
   "execution_count": 7,
   "metadata": {},
   "outputs": [
    {
     "name": "stdout",
     "output_type": "stream",
     "text": [
      "Valid\n",
      "Copying imgs in c0 class\n",
      "Copying imgs in c1 class\n",
      "Copying imgs in c2 class\n",
      "Copying imgs in c3 class\n",
      "Copying imgs in c4 class\n",
      "Copying imgs in c5 class\n",
      "Copying imgs in c6 class\n",
      "Copying imgs in c7 class\n",
      "Copying imgs in c8 class\n",
      "Copying imgs in c9 class\n",
      "\n",
      "Train\n",
      "Copying imgs in c0 class\n",
      "Copying imgs in c1 class\n",
      "Copying imgs in c2 class\n",
      "Copying imgs in c3 class\n",
      "Copying imgs in c4 class\n",
      "Copying imgs in c5 class\n",
      "Copying imgs in c6 class\n",
      "Copying imgs in c7 class\n",
      "Copying imgs in c8 class\n",
      "Copying imgs in c9 class\n"
     ]
    }
   ],
   "source": [
    "print('Valid')\n",
    "move_imgs(source_path, valid_path, valid_imgs)\n",
    "print('\\nTrain')\n",
    "move_imgs(source_path, train_path, train_imgs)"
   ]
  },
  {
   "cell_type": "code",
   "execution_count": null,
   "metadata": {},
   "outputs": [],
   "source": []
  }
 ],
 "metadata": {
  "kernelspec": {
   "display_name": "Python 3",
   "language": "python",
   "name": "python3"
  },
  "language_info": {
   "codemirror_mode": {
    "name": "ipython",
    "version": 3
   },
   "file_extension": ".py",
   "mimetype": "text/x-python",
   "name": "python",
   "nbconvert_exporter": "python",
   "pygments_lexer": "ipython3",
   "version": "3.6.3"
  }
 },
 "nbformat": 4,
 "nbformat_minor": 2
}
